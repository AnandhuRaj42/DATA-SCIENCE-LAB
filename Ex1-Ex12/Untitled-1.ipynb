{
 "cells": [
  {
   "cell_type": "code",
   "execution_count": 9,
   "metadata": {},
   "outputs": [
    {
     "name": "stdout",
     "output_type": "stream",
     "text": [
      "[[12  2  3]\n",
      " [ 3  1  3]]\n",
      "[[12 10]\n",
      " [ 1  3]]\n"
     ]
    }
   ],
   "source": [
    "#Exersice 3\n",
    "import numpy as np\n",
    "\n",
    "nums1 = np.array([[2, 5, 2],[1, 5, 5]])\n",
    "nums2 = np.array([[5, 3, 4],[3, 2, 5]])\n",
    "\n",
    "print(\"Array1:\") \n",
    "print(nums1)\n",
    "print(\"Array2:\") \n",
    "print(nums2)\n",
    "\n",
    "print(\"\\nMultiply said arrays of same size element-by-element:\")\n",
    "print(np.multiply(nums1, nums2))\n"
   ]
  },
  {
   "cell_type": "code",
   "execution_count": 10,
   "metadata": {},
   "outputs": [
    {
     "name": "stdout",
     "output_type": "stream",
     "text": [
      "Array A\n",
      "[3 5 1 2 3]\n",
      "\n",
      "Array B\n",
      "[2 5 3 2 1]\n",
      "\n",
      "A>B\n",
      "[ True False False False  True]\n",
      "\n",
      "A>=B\n",
      "[ True  True False  True  True]\n",
      "\n",
      "A<B\n",
      "[False False  True False False]\n",
      "\n",
      "A<=B\n",
      "[False  True  True  True False]\n"
     ]
    }
   ],
   "source": [
    "import numpy as np\n",
    "\n",
    "x = np.array([3,5,1,2,3])\n",
    "y = np.array([2,5,3,2,1])\n",
    "\n",
    "print(\"Array A\")\n",
    "print(x)\n",
    "print(\"\\nArray B\")\n",
    "print(y)\n",
    "\n",
    "print(\"\\nA>B\")\n",
    "print(np.greater(x, y))\n",
    "\n",
    "print(\"\\nA>=B\")\n",
    "print(np.greater_equal(x, y))\n",
    "\n",
    "print(\"\\nA<B\")\n",
    "print(np.less(x, y))\n",
    "\n",
    "print(\"\\nA<=B\")\n",
    "print(np.less_equal(x, y))\n"
   ]
  },
  {
   "cell_type": "code",
   "execution_count": 3,
   "metadata": {},
   "outputs": [
    {
     "name": "stdout",
     "output_type": "stream",
     "text": [
      "Enter the elements of first matrix- 3 X 3 \n",
      "Enter the elements of second matrix- 3 X 3 \n",
      "\n",
      "First Matrix\n",
      " [[1 2 3]\n",
      " [4 5 6]\n",
      " [7 8 9]]\n",
      "Second matrix\n",
      " [[1 2 3]\n",
      " [4 5 6]\n",
      " [7 8 9]]\n",
      "\n",
      "Dot product of first and second matrix\n"
     ]
    },
    {
     "data": {
      "text/plain": [
       "array([[ 30,  36,  42],\n",
       "       [ 66,  81,  96],\n",
       "       [102, 126, 150]])"
      ]
     },
     "execution_count": 3,
     "metadata": {},
     "output_type": "execute_result"
    }
   ],
   "source": [
    "import numpy as np\n",
    "\n",
    "print(\"Enter the elements of first matrix- 3 X 3 \");\n",
    "elements = list(map(int, input().split()));\n",
    "a= np.array(elements).reshape(3,3); \n",
    "\n",
    "print(\"Enter the elements of second matrix- 3 X 3 \");\n",
    "elements = list(map(int, input().split()));\n",
    "b= np.array(elements).reshape(3,3);\n",
    "\n",
    "print(\"\\nFirst Matrix\\n\",a)\n",
    "print(\"Second matrix\\n\",b)\n",
    "print(\"\\nDot product of first and second matrix\");\n",
    "np.dot(a, b)"
   ]
  },
  {
   "cell_type": "code",
   "execution_count": 13,
   "metadata": {},
   "outputs": [
    {
     "name": "stdout",
     "output_type": "stream",
     "text": [
      "Enter the elements of first matrix- 2 X 2 \n",
      "Enter the elements of second matrix- 2 X 2\n",
      "\n",
      "First Matrix\n",
      " [[1 2]\n",
      " [3 4]]\n",
      "\n",
      "Transpose of first matrix\n",
      "[[1 3]\n",
      " [2 4]]\n",
      "Second matrix\n",
      " [[4 3]\n",
      " [2 1]]\n",
      "\n",
      "Transpose of second matrix\n",
      "[[4 2]\n",
      " [3 1]]\n"
     ]
    }
   ],
   "source": [
    "import numpy as np\n",
    "\n",
    "print(\"Enter the elements of first matrix- 2 X 2 \");\n",
    "elements = list(map(int, input().split()));\n",
    "a= np.array(elements).reshape(2,2); \n",
    "\n",
    "print(\"Enter the elements of second matrix- 2 X 2\");\n",
    "elements = list(map(int, input().split()));\n",
    "b= np.array(elements).reshape(2,2);\n",
    "\n",
    "print(\"\\nFirst Matrix\\n\",a);\n",
    "print(\"\\nTranspose of first matrix\");\n",
    "print(a.transpose())\n",
    "print(\"Second matrix\\n\",b);\n",
    "print(\"\\nTranspose of second matrix\");\n",
    "print(b.transpose())\n"
   ]
  },
  {
   "cell_type": "code",
   "execution_count": 16,
   "metadata": {},
   "outputs": [
    {
     "name": "stdout",
     "output_type": "stream",
     "text": [
      "Enter the elements of first matrix- 2 X 2 \n",
      "Enter the elements of second matrix- 2 X 2\n",
      "\n",
      "First Matrix\n",
      " [[1 2]\n",
      " [3 4]]\n",
      "\n",
      "Trace of first matrix 5\n",
      "Second matrix\n",
      " [[3 2]\n",
      " [1 5]]\n",
      "\n",
      "Trace of second matrix 8\n"
     ]
    }
   ],
   "source": [
    "import numpy as np\n",
    "\n",
    "print(\"Enter the elements of first matrix- 2 X 2 \");\n",
    "elements = list(map(int, input().split()));\n",
    "a= np.array(elements).reshape(2,2); \n",
    "\n",
    "print(\"Enter the elements of second matrix- 2 X 2\");\n",
    "elements = list(map(int, input().split()));\n",
    "b= np.array(elements).reshape(2,2);\n",
    "\n",
    "print(\"\\nFirst Matrix\\n\",a);\n",
    "print(\"\\nTrace of first matrix\",a.trace());\n",
    "print(\"Second matrix\\n\",b);\n",
    "print(\"\\nTrace of second matrix\",b.trace());\n"
   ]
  },
  {
   "cell_type": "code",
   "execution_count": 19,
   "metadata": {},
   "outputs": [
    {
     "name": "stdout",
     "output_type": "stream",
     "text": [
      "Enter the elements of first matrix- 2 X 2 \n",
      "Enter the elements of second matrix- 3 X 3\n",
      "\n",
      "First Matrix\n",
      " [[1 2]\n",
      " [3 4]]\n",
      "\n",
      "Rank of first matrix 2\n",
      "Second matrix\n",
      " [[1 2 3]\n",
      " [4 5 6]\n",
      " [7 8 9]]\n",
      "\n",
      "Rank of second matrix 2\n"
     ]
    }
   ],
   "source": [
    "import numpy as np\n",
    "\n",
    "print(\"Enter the elements of first matrix- 2 X 2 \");\n",
    "elements = list(map(int, input().split()));\n",
    "a= np.array(elements).reshape(2,2); \n",
    "\n",
    "print(\"Enter the elements of second matrix- 3 X 3\");\n",
    "elements = list(map(int, input().split()));\n",
    "b= np.array(elements).reshape(3,3);\n",
    "\n",
    "print(\"\\nFirst Matrix\\n\",a);\n",
    "print(\"\\nRank of first matrix\",np.linalg.matrix_rank(a));\n",
    "print(\"Second matrix\\n\",b);\n",
    "print(\"\\nRank of second matrix\",np.linalg.matrix_rank(b));"
   ]
  },
  {
   "cell_type": "code",
   "execution_count": 22,
   "metadata": {},
   "outputs": [
    {
     "name": "stdout",
     "output_type": "stream",
     "text": [
      "Enter the elements of first matrix- 2 X 2 \n",
      "Enter the elements of second matrix- 2 X 2\n",
      "\n",
      "First Matrix\n",
      " [[1 1]\n",
      " [1 1]]\n",
      "\n",
      "Determinant of first matrix 0.0\n",
      "Second matrix\n",
      " [[1 2]\n",
      " [3 1]]\n",
      "\n",
      "Determinant of second matrix -5.000000000000001\n"
     ]
    }
   ],
   "source": [
    "import numpy as np\n",
    "print(\"Enter the elements of first matrix- 2 X 2 \");\n",
    "elements = list(map(int, input().split()));\n",
    "a= np.array(elements).reshape(2,2); \n",
    "print(\"Enter the elements of second matrix- 2 X 2\");\n",
    "elements = list(map(int, input().split()));\n",
    "b= np.array(elements).reshape(2,2);\n",
    "print(\"\\nFirst Matrix\\n\",a);\n",
    "print(\"\\nDeterminant of first matrix\",np.linalg.det(a));\n",
    "print(\"Second matrix\\n\",b);\n",
    "print(\"\\nDeterminant of second matrix\",np.linalg.det(b));"
   ]
  },
  {
   "cell_type": "code",
   "execution_count": 25,
   "metadata": {},
   "outputs": [
    {
     "name": "stdout",
     "output_type": "stream",
     "text": [
      "Enter the elements of first matrix- 2 X 2 \n",
      "Enter the elements of second matrix- 2 X 2\n",
      "\n",
      "First Matrix\n",
      " [[1 2]\n",
      " [4 5]]\n",
      "\n",
      "Inverse of first matrix\n",
      "[[-1.66666667  0.66666667]\n",
      " [ 1.33333333 -0.33333333]]\n",
      "Second matrix\n",
      " [[1 2]\n",
      " [3 2]]\n",
      "\n",
      "Inverse of second matrix\n",
      "[[-0.5   0.5 ]\n",
      " [ 0.75 -0.25]]\n"
     ]
    }
   ],
   "source": [
    "import numpy as np\n",
    "print(\"Enter the elements of first matrix- 2 X 2 \");\n",
    "elements = list(map(int, input().split()));\n",
    "a= np.array(elements).reshape(2,2); \n",
    "print(\"Enter the elements of second matrix- 2 X 2\");\n",
    "elements = list(map(int, input().split()));\n",
    "b= np.array(elements).reshape(2,2);\n",
    "print(\"\\nFirst Matrix\\n\",a);\n",
    "print(\"\\nInverse of first matrix\");\n",
    "print(np.linalg.inv(a));\n",
    "print(\"Second matrix\\n\",b);\n",
    "print(\"\\nInverse of second matrix\");\n",
    "print(np.linalg.inv(b));"
   ]
  },
  {
   "cell_type": "code",
   "execution_count": 28,
   "metadata": {},
   "outputs": [
    {
     "name": "stdout",
     "output_type": "stream",
     "text": [
      "Enter the elements of first matrix- 2 X 2 \n",
      "Enter the elements of second matrix- 2 X 2\n",
      "\n",
      "First Matrix\n",
      " [[1 2]\n",
      " [3 4]]\n",
      "\n",
      "Eigen value of first matrix [-0.37228132  5.37228132]\n",
      "\n",
      "Eigen vector of first matrix\n",
      " [[-0.82456484 -0.41597356]\n",
      " [ 0.56576746 -0.90937671]]\n",
      "Second matrix\n",
      " [[4 3]\n",
      " [2 1]]\n",
      "\n",
      "Eigen value of second matrix [ 5.37228132 -0.37228132]\n",
      "\n",
      "Eigen vector of second matrix\n",
      " [[ 0.90937671 -0.56576746]\n",
      " [ 0.41597356  0.82456484]]\n"
     ]
    }
   ],
   "source": [
    "import numpy as np\n",
    "print(\"Enter the elements of first matrix- 2 X 2 \");\n",
    "elements = list(map(int, input().split()));\n",
    "a= np.array(elements).reshape(2,2); \n",
    "print(\"Enter the elements of second matrix- 2 X 2\");\n",
    "elements = list(map(int, input().split()));\n",
    "b= np.array(elements).reshape(2,2);\n",
    "print(\"\\nFirst Matrix\\n\",a);\n",
    "eval1,evect1 = np.linalg.eig(a)\n",
    "eval2,evect2 = np.linalg.eig(b)\n",
    "print(\"\\nEigen value of first matrix\",eval1);\n",
    "print(\"\\nEigen vector of first matrix\\n\",evect1);\n",
    "print(\"Second matrix\\n\",b);\n",
    "print(\"\\nEigen value of second matrix\",eval2);\n",
    "print(\"\\nEigen vector of second matrix\\n\",evect2);"
   ]
  },
  {
   "cell_type": "code",
   "execution_count": 2,
   "metadata": {},
   "outputs": [
    {
     "name": "stdout",
     "output_type": "stream",
     "text": [
      "Collecting matplotlib\n",
      "  Downloading matplotlib-3.6.2-cp310-cp310-win_amd64.whl (7.2 MB)\n",
      "     ---------------------------------------- 7.2/7.2 MB 4.9 MB/s eta 0:00:00\n",
      "Collecting contourpy>=1.0.1\n",
      "  Downloading contourpy-1.0.6-cp310-cp310-win_amd64.whl (163 kB)\n",
      "     -------------------------------------- 163.6/163.6 kB 1.6 MB/s eta 0:00:00\n",
      "Collecting kiwisolver>=1.0.1\n",
      "  Downloading kiwisolver-1.4.4-cp310-cp310-win_amd64.whl (55 kB)\n",
      "     -------------------------------------- 55.3/55.3 kB 957.9 kB/s eta 0:00:00\n",
      "Collecting fonttools>=4.22.0\n",
      "  Downloading fonttools-4.38.0-py3-none-any.whl (965 kB)\n",
      "     -------------------------------------- 965.4/965.4 kB 5.1 MB/s eta 0:00:00\n",
      "Collecting pillow>=6.2.0\n",
      "  Downloading Pillow-9.3.0-cp310-cp310-win_amd64.whl (2.5 MB)\n",
      "     ---------------------------------------- 2.5/2.5 MB 2.3 MB/s eta 0:00:00\n",
      "Requirement already satisfied: pyparsing>=2.2.1 in c:\\python\\python310\\lib\\site-packages (from matplotlib) (3.0.9)\n",
      "Requirement already satisfied: packaging>=20.0 in c:\\python\\python310\\lib\\site-packages (from matplotlib) (21.3)\n",
      "Collecting cycler>=0.10\n",
      "  Downloading cycler-0.11.0-py3-none-any.whl (6.4 kB)\n",
      "Requirement already satisfied: python-dateutil>=2.7 in c:\\python\\python310\\lib\\site-packages (from matplotlib) (2.8.2)\n",
      "Requirement already satisfied: numpy>=1.19 in c:\\python\\python310\\lib\\site-packages (from matplotlib) (1.23.5)\n",
      "Requirement already satisfied: six>=1.5 in c:\\python\\python310\\lib\\site-packages (from python-dateutil>=2.7->matplotlib) (1.16.0)\n",
      "Installing collected packages: pillow, kiwisolver, fonttools, cycler, contourpy, matplotlib\n",
      "Successfully installed contourpy-1.0.6 cycler-0.11.0 fonttools-4.38.0 kiwisolver-1.4.4 matplotlib-3.6.2 pillow-9.3.0\n",
      "Note: you may need to restart the kernel to use updated packages.\n"
     ]
    },
    {
     "name": "stderr",
     "output_type": "stream",
     "text": [
      "\n",
      "[notice] A new release of pip available: 22.2.1 -> 22.3.1\n",
      "[notice] To update, run: python.exe -m pip install --upgrade pip\n"
     ]
    }
   ],
   "source": [
    "pip install matplotlib"
   ]
  },
  {
   "cell_type": "code",
   "execution_count": 3,
   "metadata": {},
   "outputs": [
    {
     "name": "stdout",
     "output_type": "stream",
     "text": [
      "Collecting scikit-learn\n",
      "  Downloading scikit_learn-1.2.0-cp310-cp310-win_amd64.whl (8.2 MB)\n",
      "     ---------------------------------------- 8.2/8.2 MB 4.5 MB/s eta 0:00:00\n",
      "Collecting scipy>=1.3.2\n",
      "  Downloading scipy-1.9.3-cp310-cp310-win_amd64.whl (40.1 MB)\n",
      "     ---------------------------------------- 40.1/40.1 MB 1.1 MB/s eta 0:00:00\n",
      "Requirement already satisfied: numpy>=1.17.3 in c:\\python\\python310\\lib\\site-packages (from scikit-learn) (1.23.5)\n",
      "Collecting threadpoolctl>=2.0.0\n",
      "  Downloading threadpoolctl-3.1.0-py3-none-any.whl (14 kB)\n",
      "Collecting joblib>=1.1.1\n",
      "  Downloading joblib-1.2.0-py3-none-any.whl (297 kB)\n",
      "     -------------------------------------- 298.0/298.0 kB 4.6 MB/s eta 0:00:00\n",
      "Installing collected packages: threadpoolctl, scipy, joblib, scikit-learn\n",
      "Successfully installed joblib-1.2.0 scikit-learn-1.2.0 scipy-1.9.3 threadpoolctl-3.1.0\n",
      "Note: you may need to restart the kernel to use updated packages.\n"
     ]
    },
    {
     "name": "stderr",
     "output_type": "stream",
     "text": [
      "\n",
      "[notice] A new release of pip available: 22.2.1 -> 22.3.1\n",
      "[notice] To update, run: python.exe -m pip install --upgrade pip\n"
     ]
    }
   ],
   "source": [
    "pip install scikit-learn\n"
   ]
  },
  {
   "cell_type": "code",
   "execution_count": 4,
   "metadata": {},
   "outputs": [
    {
     "name": "stdout",
     "output_type": "stream",
     "text": [
      "Collecting sklearn\n",
      "  Using cached sklearn-0.0.post1.tar.gz (3.6 kB)\n",
      "  Preparing metadata (setup.py): started\n",
      "  Preparing metadata (setup.py): finished with status 'done'\n",
      "Using legacy 'setup.py install' for sklearn, since package 'wheel' is not installed.\n",
      "Installing collected packages: sklearn\n",
      "  Running setup.py install for sklearn: started\n",
      "  Running setup.py install for sklearn: finished with status 'done'\n",
      "Successfully installed sklearn-0.0.post1\n",
      "Note: you may need to restart the kernel to use updated packages.\n"
     ]
    },
    {
     "name": "stderr",
     "output_type": "stream",
     "text": [
      "\n",
      "[notice] A new release of pip available: 22.2.1 -> 22.3.1\n",
      "[notice] To update, run: python.exe -m pip install --upgrade pip\n"
     ]
    }
   ],
   "source": [
    "pip install sklearn"
   ]
  },
  {
   "cell_type": "code",
   "execution_count": 5,
   "metadata": {},
   "outputs": [
    {
     "name": "stderr",
     "output_type": "stream",
     "text": [
      "Matplotlib is building the font cache; this may take a moment.\n"
     ]
    },
    {
     "data": {
      "image/png": "[encoded data removed]",
      "text/plain": [
       "<Figure size 640x480 with 1 Axes>"
      ]
     },
     "metadata": {},
     "output_type": "display_data"
    }
   ],
   "source": [
    "import matplotlib.pyplot as plt\n",
    "import numpy as np\n",
    "xpoints = np.array([1, 2, 6, 18])\n",
    "ypoints = np.array([3, 10, 12, 20])\n",
    "plt.plot(xpoints, ypoints,marker = 'o',color=\"red\",mec = 'g', mfc = 'g',linestyle = 'dotted')\n",
    "plt.show()"
   ]
  },
  {
   "cell_type": "code",
   "execution_count": 7,
   "metadata": {},
   "outputs": [
    {
     "data": {
      "image/png": "[encoded data removed]",
      "text/plain": [
       "<Figure size 640x480 with 1 Axes>"
      ]
     },
     "metadata": {},
     "output_type": "display_data"
    }
   ],
   "source": [
    "import matplotlib.pyplot as plt\n",
    "import numpy as np\n",
    "xpoints = np.array([12,14,16,18,20,22,24])\n",
    "ypoints = np.array([100,200,250,400,300,450,500])\n",
    "plt.plot(xpoints, ypoints,marker = 'o',color=\"blue\",mec = 'g', mfc = 'g',linestyle = 'dotted')\n",
    "plt.show()"
   ]
  },
  {
   "cell_type": "code",
   "execution_count": 10,
   "metadata": {},
   "outputs": [
    {
     "data": {
      "image/png": "[encoded data removed]",
      "text/plain": [
       "<Figure size 640x480 with 1 Axes>"
      ]
     },
     "metadata": {},
     "output_type": "display_data"
    }
   ],
   "source": [
    "import matplotlib.pyplot as plt\n",
    "\n",
    "with open(\"programs/cycle-1/exersise3/data1.txt\") as f:\n",
    "    data = f.read()\n",
    "    \n",
    "data = data.split('\\n')\n",
    "\n",
    "x = [row.split(' ')[0] for row in data]\n",
    "y = [row.split(' ')[1] for row in data]\n",
    "plt.plot(x, y)\n",
    "\n",
    "plt.xlabel('x axis')\n",
    "plt.ylabel('y axis')\n",
    "plt.title('graph')\n",
    "plt.show()"
   ]
  },
  {
   "cell_type": "code",
   "execution_count": 11,
   "metadata": {},
   "outputs": [
    {
     "data": {
      "image/png": "[encoded data removed]",
      "text/plain": [
       "<Figure size 640x480 with 1 Axes>"
      ]
     },
     "metadata": {},
     "output_type": "display_data"
    }
   ],
   "source": [
    "\n",
    "import matplotlib.pyplot as plt\n",
    "x1 = [10,20,30]\n",
    "y1 = [10,20,30]\n",
    "plt.plot(x1, y1, label = \"line 1\")\n",
    "x2 = [30,40,50]\n",
    "y2 = [30,40,50]\n",
    "plt.plot(x2, y2, label = \"line 2\")\n",
    "plt.xlabel('x axis')\n",
    "plt.ylabel('y axis')\n",
    "plt.title('Two Line plot')\n",
    "plt.legend()\n",
    "plt.show()\n"
   ]
  },
  {
   "cell_type": "code",
   "execution_count": 12,
   "metadata": {},
   "outputs": [
    {
     "data": {
      "image/png": "[encoded data removed]",
      "text/plain": [
       "<Figure size 640x480 with 2 Axes>"
      ]
     },
     "metadata": {},
     "output_type": "display_data"
    }
   ],
   "source": [
    "import matplotlib.pyplot as plt\n",
    "\n",
    "figure, axis = plt.subplots(1,2)\n",
    "dt=0.01\n",
    "x1 = [10,20,30]\n",
    "y1 = [10,20,30]\n",
    "axis[0].plot(x1,y1)\n",
    "#axis[0,0].plot(x1,y1)\n",
    "axis[0].set_title(\"Plot 1\")\n",
    "x2 = [10,10,10]\n",
    "y2 = [30,40,50]\n",
    "axis[1].plot(x2, y2)\n",
    "#axis[0,1].plot(x2, y2)\n",
    "axis[1].set_title(\"Plot 2\")\n",
    "plt.show()"
   ]
  },
  {
   "cell_type": "code",
   "execution_count": 1,
   "metadata": {},
   "outputs": [
    {
     "data": {
      "image/png": "[encoded data removed]",
      "text/plain": [
       "<Figure size 640x480 with 1 Axes>"
      ]
     },
     "metadata": {},
     "output_type": "display_data"
    }
   ],
   "source": [
    "import matplotlib.pyplot as plt\n",
    "\n",
    "x = [10, 20, 30, 40, 50, 60, 70, 80, 90, 100]\n",
    "m = [88, 92, 80, 89, 100, 80, 60, 100, 80, 34]\n",
    "s = [35, 79, 79, 48, 100, 88, 32, 45, 20, 30]\n",
    "\n",
    "plt.scatter(x, m,label=\"maths marks\")\n",
    "plt.scatter(x, s,label=\"science marks\")\n",
    "plt.legend(loc='upper right')\n",
    "\n",
    "plt.xlabel(\"Marks Range\")\n",
    "plt.ylabel(\"Marks Scored\")\n",
    "plt.title(\"Scatter plot\")\n",
    "plt.show() \n"
   ]
  },
  {
   "cell_type": "markdown",
   "metadata": {},
   "source": [
    "#Exersise 4"
   ]
  },
  {
   "cell_type": "code",
   "execution_count": 17,
   "metadata": {},
   "outputs": [
    {
     "name": "stdout",
     "output_type": "stream",
     "text": [
      "List ['a', 'b', 'c']\n",
      "Series\n",
      "0    a\n",
      "1    b\n",
      "2    c\n",
      "dtype: object\n"
     ]
    }
   ],
   "source": [
    "\n",
    "import pandas as pd\n",
    "lis = ['a','b','c']\n",
    "print(\"List\",lis)\n",
    "ser= pd.Series(lis)\n",
    "print(\"Series\")\n",
    "print(ser)\n"
   ]
  },
  {
   "cell_type": "code",
   "execution_count": 23,
   "metadata": {},
   "outputs": [
    {
     "name": "stdout",
     "output_type": "stream",
     "text": [
      "2021-05-01\n",
      "2021-05-02\n",
      "2021-05-03\n",
      "2021-05-04\n",
      "2021-05-05\n",
      "2021-05-06\n",
      "2021-05-07\n",
      "2021-05-08\n",
      "2021-05-09\n",
      "2021-05-10\n",
      "2021-05-11\n",
      "2021-05-12\n"
     ]
    }
   ],
   "source": [
    "\n",
    "import pandas as pd\n",
    "sr = pd.Series(pd.date_range('2021-05-01','2021-05-12',freq = 'D'))\n",
    "print(sr.to_string(index=False))\n",
    "\n"
   ]
  },
  {
   "cell_type": "code",
   "execution_count": 28,
   "metadata": {},
   "outputs": [
    {
     "name": "stdout",
     "output_type": "stream",
     "text": [
      "    Name  Age\n",
      "0  anand   24\n",
      "1  basil   25\n",
      "2  rajiv   26\n",
      "3  dasan   27\n"
     ]
    }
   ],
   "source": [
    "import pandas as pd\n",
    "data = {\n",
    "\n",
    "    'Name' : ['anand','basil','rajiv','dasan'],\n",
    "    'Age' : [24,25,26,27],\n",
    "}\n",
    "print(pd.DataFrame(data))\n",
    "  \n"
   ]
  },
  {
   "cell_type": "code",
   "execution_count": 31,
   "metadata": {},
   "outputs": [
    {
     "name": "stdout",
     "output_type": "stream",
     "text": [
      "      0   1\n",
      "0  arun  22\n",
      "1   aju  24\n"
     ]
    }
   ],
   "source": [
    "import pandas as pd\n",
    "details = [[\"arun\",22],[\"aju\",24]]\n",
    "df = pd.DataFrame(details) \n",
    "print(df)\n"
   ]
  },
  {
   "cell_type": "code",
   "execution_count": 33,
   "metadata": {},
   "outputs": [
    {
     "name": "stdout",
     "output_type": "stream",
     "text": [
      "  Name  mark\n",
      "0    a     1\n",
      "1    b     2\n",
      "2    c     3\n"
     ]
    }
   ],
   "source": [
    "import pandas as pd\n",
    "df = pd.read_csv('q5_csv.csv')\n",
    "print(df.to_string()) "
   ]
  },
  {
   "cell_type": "code",
   "execution_count": 36,
   "metadata": {},
   "outputs": [
    {
     "name": "stdout",
     "output_type": "stream",
     "text": [
      "    Name  Age\n",
      "0  anand   24\n",
      "1  basil   25\n"
     ]
    }
   ],
   "source": [
    "import pandas as pd\n",
    "\n",
    "da = {\n",
    "    'Name' : ['anand','basil','arun','dasan'],\n",
    "    'Age' : [24,25,26,27],\n",
    "}\n",
    "  \n",
    "df = pd.DataFrame(da)\n",
    "  \n",
    "print(df[0:2])"
   ]
  },
  {
   "cell_type": "code",
   "execution_count": 38,
   "metadata": {},
   "outputs": [
    {
     "name": "stdout",
     "output_type": "stream",
     "text": [
      "    Name   Occupation  Salary\n",
      "0  anand       driver   20000\n",
      "1  basil     engineer   30000\n",
      "2   arun       driver   15000\n",
      "3  dasan      plumber   27000\n",
      "4  anoop  electrician   23000\n",
      "Average salary per occupation : \n",
      "Occupation\n",
      "driver         17500.0\n",
      "electrician    23000.0\n",
      "engineer       30000.0\n",
      "plumber        27000.0\n",
      "Name: Salary, dtype: float64\n"
     ]
    }
   ],
   "source": [
    "import pandas as pd\n",
    "\n",
    "data = {\n",
    "    'Name' : ['anand','basil','arun','dasan','anoop'],\n",
    "    'Occupation' : ['driver','engineer','driver','plumber','electrician'],\n",
    "    'Salary' : [20000,30000,15000,27000,23000],\n",
    "}\n",
    "  \n",
    "\n",
    "df = pd.DataFrame(data)\n",
    "print(df)\n",
    "occ_average_age = df.groupby('Occupation')['Salary'].mean()\n",
    "print(\"Average salary per occupation : \")\n",
    "print(occ_average_age)\n"
   ]
  },
  {
   "cell_type": "code",
   "execution_count": 39,
   "metadata": {},
   "outputs": [
    {
     "name": "stdout",
     "output_type": "stream",
     "text": [
      "   eid  ename  stipend      designation\n",
      "0    1   alex     1000     asst.manager\n",
      "1    2  basil     2000          manager\n",
      "2    3   syam      900  sales_executive\n",
      "3    4  deepu      700               hr\n"
     ]
    }
   ],
   "source": [
    "\n",
    " import pandas as pd\n",
    "\n",
    "details_1 = {\n",
    "    'eid' : [1,2,3,4],\n",
    "    'ename' : ['alex','basil','syam','deepu'],\n",
    "    'stipend':[1000,2000,900,700],\n",
    "}\n",
    "\n",
    "details_2 = {\n",
    "    'eid' : [1,2,3,4],\n",
    "    'designation' : ['asst.manager','manager','sales_executive','hr'],\n",
    "}\n",
    "\n",
    "df_1 = pd.DataFrame(details_1)\n",
    "df_2 = pd.DataFrame(details_2)\n",
    "\n",
    "dataframe = pd.merge(df_1, df_2, how = 'inner', on = 'eid')\n",
    "print(dataframe)"
   ]
  },
  {
   "cell_type": "code",
   "execution_count": null,
   "metadata": {},
   "outputs": [],
   "source": [
    "#Exersise 5 to exersise 10"
   ]
  },
  {
   "cell_type": "code",
   "execution_count": 9,
   "metadata": {},
   "outputs": [
    {
     "name": "stdout",
     "output_type": "stream",
     "text": [
      "Accuracy\n",
      "0.9666666666666667\n"
     ]
    }
   ],
   "source": [
    "from sklearn.neighbors import KNeighborsClassifier\n",
    "from sklearn.model_selection import train_test_split\n",
    "from sklearn.datasets import load_iris\n",
    "irisData = load_iris()\n",
    "X = irisData.data\n",
    "y = irisData.target\n",
    "X_train, X_test, y_train, y_test = train_test_split(\n",
    "\t\t\tX, y, test_size = 0.2, random_state=42)\n",
    "knn = KNeighborsClassifier(n_neighbors=7)\n",
    "knn.fit(X_train, y_train)\n",
    "print(\"Accuracy\")\n",
    "print(knn.score(X_test,y_test))"
   ]
  },
  {
   "cell_type": "code",
   "execution_count": 21,
   "metadata": {},
   "outputs": [
    {
     "name": "stdout",
     "output_type": "stream",
     "text": [
      "[2 1 0 2 0 2 0 1 1 1 2 1 1 1 1 0 1 1 0 0 2 1 0 0 2 0 0 1 1 0 2 1 0 2 2 1 0\n",
      " 1 1 1 2 0 2 0 0]\n",
      "CM [[16  0  0]\n",
      " [ 0 18  0]\n",
      " [ 0  0 11]]\n",
      "\n",
      "\n",
      "predicted output for [[5,5,4,4]]: [2]\n",
      "Naive bayes score               : 1.0\n"
     ]
    }
   ],
   "source": [
    "from sklearn.datasets import load_iris\n",
    "from sklearn.model_selection import train_test_split\n",
    "from sklearn.naive_bayes import GaussianNB\n",
    "X,y=load_iris(return_X_y=True)\n",
    "X_train,X_test,y_train,y_test=train_test_split(X,y,test_size=0.30,random_state=0)\n",
    "gnb=GaussianNB()\n",
    "y_pred=gnb.fit(X_train,y_train).predict(X_test)\n",
    "print(y_pred)\n",
    "x_new=[[5,5,4,4]]\n",
    "y_new=gnb.fit(X_train,y_train).predict(x_new)\n",
    "from sklearn.metrics import confusion_matrix  \n",
    "cm = confusion_matrix(y_test, y_pred)  \n",
    "print (\"CM\", cm)\n",
    "print(\"\\n\")\n",
    "print(\"predicted output for [[5,5,4,4]]:\",y_new)\n",
    "print(\"Naive bayes score               :\",gnb.score(X_test,y_test))\n",
    "\n"
   ]
  },
  {
   "cell_type": "code",
   "execution_count": 20,
   "metadata": {},
   "outputs": [
    {
     "name": "stdout",
     "output_type": "stream",
     "text": [
      "Accuracy:  0.9555555555555556\n"
     ]
    }
   ],
   "source": [
    "from sklearn.datasets import load_iris\n",
    "from sklearn import metrics\n",
    "from sklearn import tree\n",
    "import matplotlib.pyplot as plt\n",
    "from sklearn.model_selection import train_test_split\n",
    "from sklearn.tree import DecisionTreeClassifier\n",
    "\n",
    "iris=load_iris()\n",
    "x=iris.data\n",
    "y=iris.target\n",
    "x_train,x_test,y_train,y_test = train_test_split(x,y,test_size=0.3,random_state=1)\n",
    "\n",
    "clf=DecisionTreeClassifier()\n",
    "clf=clf.fit(x_train,y_train)\n",
    "y_pred=clf.predict(x_test)\n",
    "print(\"Accuracy: \",metrics.accuracy_score(y_test,y_pred))\n"
   ]
  },
  {
   "cell_type": "code",
   "execution_count": 23,
   "metadata": {},
   "outputs": [
    {
     "name": "stdout",
     "output_type": "stream",
     "text": [
      "Coefficients: \n",
      " [938.23786125]\n",
      "Mean squared error: 2548.07\n",
      "Coefficient of determination: 0.47\n"
     ]
    }
   ],
   "source": [
    "import matplotlib.pyplot as plt\n",
    "import numpy as np\n",
    "from sklearn import datasets, linear_model\n",
    "from sklearn.metrics import mean_squared_error, r2_score\n",
    "df = datasets.load_diabetes()\n",
    "df['feature_names']\n",
    "diabetes_X, diabetes_y = datasets.load_diabetes(return_X_y=True)\n",
    "diabetes_X.shape\n",
    "diabetes_y.shape\n",
    "diabetes_X = diabetes_X[:, np.newaxis, 2]\n",
    "diabetes_X.shape\n",
    "diabetes_X_train = diabetes_X[:-20]\n",
    "diabetes_X_test = diabetes_X[-20:]\n",
    "diabetes_y_train = diabetes_y[:-20]\n",
    "diabetes_y_test = diabetes_y[-20:]\n",
    "regr = linear_model.LinearRegression()\n",
    "regr.fit(diabetes_X_train, diabetes_y_train)\n",
    "diabetes_y_pred = regr.predict(diabetes_X_test)\n",
    "print(\"Coefficients: \\n\", regr.coef_)\n",
    "print(\"Mean squared error: %.2f\" % mean_squared_error(diabetes_y_test, diabetes_y_pred))\n",
    "print(\"Coefficient of determination: %.2f\" % r2_score(diabetes_y_test, diabetes_y_pred))\n"
   ]
  },
  {
   "cell_type": "code",
   "execution_count": 24,
   "metadata": {},
   "outputs": [
    {
     "name": "stdout",
     "output_type": "stream",
     "text": [
      "Accuracy :  1.0\n",
      "['setosa']\n"
     ]
    }
   ],
   "source": [
    "from sklearn.datasets import load_iris\n",
    "from sklearn.model_selection import train_test_split\n",
    "from sklearn import metrics\n",
    "from sklearn.svm import SVC\n",
    "\n",
    "iris = load_iris()\n",
    "x = iris.data\n",
    "y = iris.target\n",
    "x_train,x_test,y_train,y_test = train_test_split(x,y,test_size=0.3,random_state=1)\n",
    "\n",
    "\n",
    "classifier = SVC(kernel='linear', random_state=0)  \n",
    "classifier.fit(x_train, y_train)  \n",
    "y_pred= classifier.predict(x_test)  \n",
    "\n",
    "print(\"Accuracy : \",metrics.accuracy_score(y_test,y_pred))\n",
    "\n",
    "sample = [[1,1,1,2]]\n",
    "pred = classifier.predict(sample)\n",
    "pred_v = [iris.target_names[p] for p in pred]\n",
    "print(pred_v)\n"
   ]
  },
  {
   "cell_type": "code",
   "execution_count": 25,
   "metadata": {},
   "outputs": [
    {
     "name": "stderr",
     "output_type": "stream",
     "text": [
      "c:\\Python\\Python310\\lib\\site-packages\\sklearn\\cluster\\_kmeans.py:1366: FutureWarning: algorithm='auto' is deprecated, it will be removed in 1.3. Using 'lloyd' instead.\n",
      "  warnings.warn(\n"
     ]
    },
    {
     "name": "stdout",
     "output_type": "stream",
     "text": [
      "[[5.77358491 2.69245283]\n",
      " [5.006      3.428     ]\n",
      " [6.81276596 3.07446809]]\n",
      "[1 1 1 1 1 1 1 1 1 1 1 1 1 1 1 1 1 1 1 1 1 1 1 1 1 1 1 1 1 1 1 1 1 1 1 1 1\n",
      " 1 1 1 1 1 1 1 1 1 1 1 1 1 2 2 2 0 2 0 2 0 2 0 0 0 0 0 0 2 0 0 0 0 0 0 0 0\n",
      " 2 2 2 2 0 0 0 0 0 0 0 0 2 0 0 0 0 0 0 0 0 0 0 0 0 0 2 0 2 2 2 2 0 2 2 2 2\n",
      " 2 2 0 0 2 2 2 2 0 2 0 2 0 2 2 0 0 2 2 2 2 2 0 0 2 2 2 0 2 2 2 0 2 2 2 0 2\n",
      " 2 0]\n",
      "[0 0 0 0 0 0 0 0 0 0 0 0 0 0 0 0 0 0 0 0 0 0 0 0 0 0 0 0 0 0 0 0 0 0 0 0 0\n",
      " 0 0 0 0 0 0 0 0 0 0 0 0 0 1 1 1 1 1 1 1 1 1 1 1 1 1 1 1 1 1 1 1 1 1 1 1 1\n",
      " 1 1 1 1 1 1 1 1 1 1 1 1 1 1 1 1 1 1 1 1 1 1 1 1 1 1 2 2 2 2 2 2 2 2 2 2 2\n",
      " 2 2 2 2 2 2 2 2 2 2 2 2 2 2 2 2 2 2 2 2 2 2 2 2 2 2 2 2 2 2 2 2 2 2 2 2 2\n",
      " 2 2]\n"
     ]
    }
   ],
   "source": [
    "from sklearn import datasets\n",
    "import matplotlib.pyplot as plt\n",
    "import pandas as pd\n",
    "from sklearn.cluster import KMeans\n",
    "iris = datasets.load_iris()\n",
    "X = iris.data[:, :2]\n",
    "y = iris.target\n",
    "km = KMeans(n_clusters = 3, init='k-means++', n_init=10, max_iter=300, tol=0.0001, verbose=0, random_state=21, copy_x=True, algorithm=\"auto\")\n",
    "km.fit(X)\n",
    "centers = km.cluster_centers_\n",
    "print(centers)\n",
    "new_labels = km.labels_\n",
    "print(new_labels)\n",
    "print(y)"
   ]
  },
  {
   "cell_type": "code",
   "execution_count": 2,
   "metadata": {},
   "outputs": [
    {
     "name": "stdout",
     "output_type": "stream",
     "text": [
      "Array:\n",
      "[[ 0  1  2  3]\n",
      " [ 4  5  6  7]\n",
      " [ 8  9 10 11]\n",
      " [12 13 14 15]]\n",
      "\n",
      "After loading, content of the text file:\n",
      "[[ 0  1  2  3]\n",
      " [ 4  5  6  7]\n",
      " [ 8  9 10 11]\n",
      " [12 13 14 15]]\n"
     ]
    }
   ],
   "source": [
    "import numpy as np\n",
    "import os\n",
    "x = np.arange(16).reshape(4,4)\n",
    "print(\"Array:\")\n",
    "print(x)\n",
    "header = 'C1 C2 C3 C4'\n",
    "np.savetxt('7_array.txt', x, fmt=\"%d\", header=header)\n",
    "print(\"\\nAfter loading, content of the text file:\")\n",
    "print(np.loadtxt('7_array.txt',dtype='i'))\n"
   ]
  },
  {
   "cell_type": "code",
   "execution_count": null,
   "metadata": {},
   "outputs": [],
   "source": []
  }
 ],
 "metadata": {
  "kernelspec": {
   "display_name": "Python 3.10.6 64-bit",
   "language": "python",
   "name": "python3"
  },
  "language_info": {
   "codemirror_mode": {
    "name": "ipython",
    "version": 3
   },
   "file_extension": ".py",
   "mimetype": "text/x-python",
   "name": "python",
   "nbconvert_exporter": "python",
   "pygments_lexer": "ipython3",
   "version": "3.10.6"
  },
  "orig_nbformat": 4,
  "vscode": {
   "interpreter": {
    "hash": "d3e10ef16274dd72e574b8fa73b58450b957d8421a2901baded3cca26fcf5dda"
   }
  }
 },
 "nbformat": 4,
 "nbformat_minor": 2
}
