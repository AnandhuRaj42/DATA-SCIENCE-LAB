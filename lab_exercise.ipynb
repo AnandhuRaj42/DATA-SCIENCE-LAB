{
 "cells": [
  {
   "cell_type": "code",
   "execution_count": 9,
   "metadata": {},
   "outputs": [
    {
     "name": "stdout",
     "output_type": "stream",
     "text": [
      "[[1 2]\n",
      " [3 4]]\n",
      "[[1, 2], [3, 4]]\n"
     ]
    }
   ],
   "source": [
    "import numpy as np\n",
    "a1=np.array([1,2,3,4])\n",
    "a1.shape=(2,2)\n",
    "print(a1)\n",
    "print(a1.tolist())"
   ]
  },
  {
   "cell_type": "code",
   "execution_count": 18,
   "metadata": {},
   "outputs": [
    {
     "name": "stdout",
     "output_type": "stream",
     "text": [
      "[0. 0. 0. 0. 0. 0. 0. 0. 0. 0.]\n",
      "[ 0.  0.  0.  0. 11.  0.  0.  0.  0.  0.]\n"
     ]
    }
   ],
   "source": [
    "import numpy as np\n",
    "a=np.zeros(10)\n",
    "print(a)\n",
    "a[4]=11\n",
    "print(a)\n"
   ]
  },
  {
   "cell_type": "code",
   "execution_count": 22,
   "metadata": {},
   "outputs": [
    {
     "name": "stdout",
     "output_type": "stream",
     "text": [
      "[False False False False  True False]\n",
      "[False False  True  True False False]\n",
      "[False False  True  True  True False]\n",
      "[ True  True False False False  True]\n",
      "[ True  True False False  True  True]\n"
     ]
    }
   ],
   "source": [
    "a1=np.array([1,2,3,4,5,5])\n",
    "a2=np.array([7,3,2,1,5,9])\n",
    "print(np.equal(a1,a2))\n",
    "print(np.greater(a1,a2))\n",
    "print(np.greater_equal(a1,a2))\n",
    "print(np.less(a1,a2))\n",
    "print(np.less_equal(a1,a2))"
   ]
  },
  {
   "cell_type": "code",
   "execution_count": 31,
   "metadata": {},
   "outputs": [
    {
     "name": "stdout",
     "output_type": "stream",
     "text": [
      "[29 30 31 32 33 34 35 36 37 38 39 40 41 42 43 44 45 46 47 48 49]\n"
     ]
    }
   ],
   "source": [
    "print(np.arange(29,50))"
   ]
  },
  {
   "cell_type": "code",
   "execution_count": 34,
   "metadata": {},
   "outputs": [
    {
     "name": "stdout",
     "output_type": "stream",
     "text": [
      "[[1. 0. 0.]\n",
      " [0. 1. 0.]\n",
      " [0. 0. 1.]]\n"
     ]
    }
   ],
   "source": [
    "print(np.identity(3))"
   ]
  },
  {
   "cell_type": "code",
   "execution_count": 20,
   "metadata": {},
   "outputs": [
    {
     "name": "stdout",
     "output_type": "stream",
     "text": [
      "[1 2 3 4]\n",
      "[1 2 3 4]\n"
     ]
    }
   ],
   "source": [
    "import numpy as np\n",
    "a=np.array([1,2,3,4])\n",
    "print(a)\n",
    "np.savetxt(\"ar.txt\",a,\"%d\")\n",
    "print(np.loadtxt(\"ar.txt\",dtype=\"i\"))\n",
    "\n"
   ]
  },
  {
   "cell_type": "code",
   "execution_count": 33,
   "metadata": {},
   "outputs": [
    {
     "name": "stdout",
     "output_type": "stream",
     "text": [
      "elements of first matrix\n",
      "[[1 2 3]\n",
      " [4 5 6]\n",
      " [7 8 9]]\n",
      "elements of first matrix\n",
      "[[1 2 3]\n",
      " [4 5 6]\n",
      " [7 8 9]]\n",
      "[[ 30  36  42]\n",
      " [ 66  81  96]\n",
      " [102 126 150]]\n"
     ]
    }
   ],
   "source": [
    "import numpy as np \n",
    "print(\"elements of first matrix\");\n",
    "el=list(map(int,input().split()))\n",
    "a=np.array(el)\n",
    "a.shape=(3,3)\n",
    "print(a)\n",
    "print(\"elements of first matrix\");\n",
    "el1=list(map(int,input().split()))\n",
    "a1=np.array(el1)\n",
    "a1.shape=(3,3)\n",
    "print(a1)\n",
    "print(np.dot(a,a1))"
   ]
  },
  {
   "cell_type": "code",
   "execution_count": 36,
   "metadata": {},
   "outputs": [
    {
     "name": "stdout",
     "output_type": "stream",
     "text": [
      "elements of first matrix\n",
      "[[1 2]\n",
      " [3 4]]\n",
      "[[1 3]\n",
      " [2 4]]\n"
     ]
    }
   ],
   "source": [
    "import numpy as np \n",
    "print(\"elements of first matrix\");\n",
    "el=list(map(int,input().split()))\n",
    "a=np.array(el)\n",
    "a.shape=(2,2)\n",
    "print(a)\n",
    "print(np.transpose(a))"
   ]
  },
  {
   "cell_type": "code",
   "execution_count": 38,
   "metadata": {},
   "outputs": [
    {
     "name": "stdout",
     "output_type": "stream",
     "text": [
      "elements of first matrix\n",
      "[[5 2]\n",
      " [1 1]]\n",
      "6\n"
     ]
    }
   ],
   "source": [
    "import numpy as np \n",
    "print(\"elements of first matrix\");\n",
    "el=list(map(int,input().split()))\n",
    "a=np.array(el)\n",
    "a.shape=(2,2)\n",
    "print(a)\n",
    "print(np.trace(a))"
   ]
  },
  {
   "cell_type": "code",
   "execution_count": 40,
   "metadata": {},
   "outputs": [
    {
     "name": "stdout",
     "output_type": "stream",
     "text": [
      "elements of first matrix\n",
      "[[ 3 21]\n",
      " [ 1  4]]\n",
      "2\n"
     ]
    }
   ],
   "source": [
    "import numpy as np \n",
    "print(\"elements of first matrix\");\n",
    "el=list(map(int,input().split()))\n",
    "a=np.array(el)\n",
    "a.shape=(2,2)\n",
    "print(a)\n",
    "print(np.linalg.matrix_rank(a))"
   ]
  },
  {
   "cell_type": "code",
   "execution_count": 41,
   "metadata": {},
   "outputs": [
    {
     "name": "stdout",
     "output_type": "stream",
     "text": [
      "elements of first matrix\n",
      "[[1 2]\n",
      " [4 3]]\n",
      "-4.999999999999999\n"
     ]
    }
   ],
   "source": [
    "import numpy as np \n",
    "print(\"elements of first matrix\");\n",
    "el=list(map(int,input().split()))\n",
    "a=np.array(el)\n",
    "a.shape=(2,2)\n",
    "print(a)\n",
    "print(np.linalg.det(a))"
   ]
  },
  {
   "cell_type": "code",
   "execution_count": null,
   "metadata": {},
   "outputs": [],
   "source": [
    "import numpy as np \n",
    "print(\"elements of first matrix\");\n",
    "el=list(map(int,input().split()))\n",
    "a=np.array(el)\n",
    "a.shape=(2,2)\n",
    "print(a)"
   ]
  },
  {
   "cell_type": "code",
   "execution_count": 42,
   "metadata": {},
   "outputs": [
    {
     "name": "stdout",
     "output_type": "stream",
     "text": [
      "elements of first matrix\n",
      "[[1 2]\n",
      " [3 4]]\n",
      "[[-2.   1. ]\n",
      " [ 1.5 -0.5]]\n"
     ]
    }
   ],
   "source": [
    "import numpy as np \n",
    "print(\"elements of first matrix\");\n",
    "el=list(map(int,input().split()))\n",
    "a=np.array(el)\n",
    "a.shape=(2,2)\n",
    "print(a)\n",
    "print(np.linalg.inv(a))"
   ]
  },
  {
   "cell_type": "code",
   "execution_count": 43,
   "metadata": {},
   "outputs": [
    {
     "name": "stdout",
     "output_type": "stream",
     "text": [
      "elements of first matrix\n",
      "[[1 2]\n",
      " [3 4]]\n",
      "[-0.37228132  5.37228132]\n",
      "[[-0.82456484 -0.41597356]\n",
      " [ 0.56576746 -0.90937671]]\n"
     ]
    }
   ],
   "source": [
    "import numpy as np \n",
    "print(\"elements of first matrix\");\n",
    "el=list(map(int,input().split()))\n",
    "a=np.array(el)\n",
    "a.shape=(2,2)\n",
    "print(a)\n",
    "val,vect=np.linalg.eig(a)\n",
    "print(val)\n",
    "print(vect)"
   ]
  },
  {
   "cell_type": "code",
   "execution_count": 15,
   "metadata": {},
   "outputs": [
    {
     "data": {
      "image/png": "[encoded data removed]",
      "text/plain": [
       "<Figure size 640x480 with 1 Axes>"
      ]
     },
     "metadata": {},
     "output_type": "display_data"
    }
   ],
   "source": [
    "import matplotlib.pyplot as plt\n",
    "import numpy as np\n",
    "xp=np.array([1,2,6,18])\n",
    "yp=np.array([3,10,12,20])\n",
    "plt.plot(xp,yp,color=\"red\",marker=\"o\",mec=\"green\",mfc=\"black\")\n",
    "plt.show()"
   ]
  },
  {
   "cell_type": "code",
   "execution_count": 23,
   "metadata": {},
   "outputs": [
    {
     "data": {
      "image/png": "[encoded data removed]",
      "text/plain": [
       "<Figure size 640x480 with 1 Axes>"
      ]
     },
     "metadata": {},
     "output_type": "display_data"
    }
   ],
   "source": [
    "import matplotlib.pyplot as plt\n",
    "import numpy as np\n",
    "xp=np.array([12,14,16,18,20,22])\n",
    "yp=np.array([100,200,250,400,300,450])\n",
    "plt.plot(xp,yp,color=\"red\",marker=\"o\",mec=\"black\")\n",
    "plt.show()\n"
   ]
  },
  {
   "cell_type": "code",
   "execution_count": 19,
   "metadata": {},
   "outputs": [
    {
     "name": "stdout",
     "output_type": "stream",
     "text": [
      "['1 1', '2 2', '3 3', '4 4', '5 5 ']\n",
      "['1', '2', '3', '4', '5']\n",
      "['1', '2', '3', '4', '5']\n"
     ]
    },
    {
     "data": {
      "image/png": "[encoded data removed]",
      "text/plain": [
       "<Figure size 640x480 with 1 Axes>"
      ]
     },
     "metadata": {},
     "output_type": "display_data"
    }
   ],
   "source": [
    "import matplotlib.pyplot as plt\n",
    "with open(\"data.txt\") as f:dat=f.read()\n",
    "dat=dat.split(\"\\n\")\n",
    "print(dat)\n",
    "xp=[row.split(' ')[0] for row in dat]\n",
    "yp=[row.split(' ')[0]for row in dat]\n",
    "print(xp)\n",
    "print(yp)\n",
    "plt.plot(xp,yp)\n",
    "plt.xlabel(\"x -axis\")\n",
    "plt.ylabel(\"y-axis\")\n",
    "plt.title(\"Graph\")\n",
    "plt.show()"
   ]
  },
  {
   "cell_type": "code",
   "execution_count": 27,
   "metadata": {},
   "outputs": [
    {
     "data": {
      "text/plain": [
       "[]"
      ]
     },
     "execution_count": 27,
     "metadata": {},
     "output_type": "execute_result"
    },
    {
     "data": {
      "image/png": "[encoded data removed]",
      "text/plain": [
       "<Figure size 640x480 with 1 Axes>"
      ]
     },
     "metadata": {},
     "output_type": "display_data"
    }
   ],
   "source": [
    "import matplotlib.pyplot as plt\n",
    "import numpy as np\n",
    "a1=[1,2,3,4]\n",
    "y1=[1,2,3,4]\n",
    "plt.plot(a1,y1,label=\"L1\")\n",
    "a2=[4.5,5,6,7,8]\n",
    "y2=[4.5,5,6,7,8]\n",
    "plt.plot(a2,y2,label=\"L2\")\n",
    "plt.xlabel(\"x axis\")\n",
    "plt.ylabel(\"y axis\")\n",
    "plt.legend()\n",
    "plt.plot()"
   ]
  },
  {
   "cell_type": "code",
   "execution_count": 34,
   "metadata": {},
   "outputs": [
    {
     "data": {
      "image/png": "[encoded data removed]",
      "text/plain": [
       "<Figure size 640x480 with 2 Axes>"
      ]
     },
     "metadata": {},
     "output_type": "display_data"
    }
   ],
   "source": [
    "import matplotlib.pyplot as plt\n",
    "figure,axis=plt.subplots(1,2)\n",
    "x1=[1,2,3,4]\n",
    "y1=[1,2,3,4]\n",
    "axis[0].plot(x1,y1)\n",
    "x2=[1,2,3,4]\n",
    "y2=[1.3,3,2,1]\n",
    "axis[1].plot(x2,y2)\n",
    "plt.show()\n",
    "\n"
   ]
  },
  {
   "cell_type": "code",
   "execution_count": 40,
   "metadata": {},
   "outputs": [
    {
     "data": {
      "image/png": "[encoded data removed]",
      "text/plain": [
       "<Figure size 640x480 with 1 Axes>"
      ]
     },
     "metadata": {},
     "output_type": "display_data"
    }
   ],
   "source": [
    "import matplotlib.pyplot as plt\n",
    "x1=[88,92,80,89,100,80,60,100,80,34]\n",
    "x2=[35,79,79,48,100,88,32,45,20,30]\n",
    "x3=[10,20,30,40,50,60,70,80,90,100]\n",
    "plt.scatter(x3,x1,label=\"maths\")\n",
    "plt.scatter(x3,x2,label=\"science\")\n",
    "plt.legend()\n",
    "plt.show()"
   ]
  },
  {
   "cell_type": "code",
   "execution_count": 43,
   "metadata": {},
   "outputs": [
    {
     "name": "stdout",
     "output_type": "stream",
     "text": [
      "0    a\n",
      "1    b\n",
      "2    c\n",
      "dtype: object\n"
     ]
    }
   ],
   "source": [
    "import pandas as pd\n",
    "lis=[\"a\",\"b\",\"c\"]\n",
    "print(pd.Series(lis))"
   ]
  },
  {
   "cell_type": "code",
   "execution_count": 46,
   "metadata": {},
   "outputs": [
    {
     "name": "stdout",
     "output_type": "stream",
     "text": [
      "0    2021-05-01\n",
      "1    2021-05-02\n",
      "2    2021-05-03\n",
      "3    2021-05-04\n",
      "4    2021-05-05\n",
      "5    2021-05-06\n",
      "6    2021-05-07\n",
      "7    2021-05-08\n",
      "8    2021-05-09\n",
      "9    2021-05-10\n",
      "10   2021-05-11\n",
      "11   2021-05-12\n",
      "dtype: datetime64[ns]\n"
     ]
    }
   ],
   "source": [
    "import pandas as pd\n",
    "print(pd.Series(pd.date_range(\"2021-05-01\",\"2021-05-12\")))"
   ]
  },
  {
   "cell_type": "code",
   "execution_count": 51,
   "metadata": {},
   "outputs": [
    {
     "name": "stdout",
     "output_type": "stream",
     "text": [
      "{'Name': ['anand', 'arun', 'aju'], 'Age': [20, 30, 40]}\n",
      "    Name  Age\n",
      "0  anand   20\n",
      "1   arun   30\n",
      "2    aju   40\n"
     ]
    }
   ],
   "source": [
    "import pandas as pd\n",
    "data={\n",
    "    'Name':[\"anand\",\"arun\",\"aju\"],\n",
    "    'Age':[20,30,40]\n",
    "}\n",
    "print(data)\n",
    "print(pd.DataFrame(data))"
   ]
  },
  {
   "cell_type": "code",
   "execution_count": 53,
   "metadata": {},
   "outputs": [
    {
     "name": "stdout",
     "output_type": "stream",
     "text": [
      "       0   1\n",
      "0  Anand  20\n",
      "1   Hari  21\n"
     ]
    }
   ],
   "source": [
    "import pandas as pd\n",
    "data=[[\"Anand\",20],[\"Hari\",21]]\n",
    "print(pd.DataFrame(data))"
   ]
  },
  {
   "cell_type": "code",
   "execution_count": 57,
   "metadata": {},
   "outputs": [
    {
     "name": "stdout",
     "output_type": "stream",
     "text": [
      "    Name  Age\n",
      "0  anand   23\n",
      "1   Hari   21\n"
     ]
    }
   ],
   "source": [
    "import pandas as pd\n",
    "da=pd.read_csv(\"sample.csv\")\n",
    "print(pd.DataFrame(da))"
   ]
  },
  {
   "cell_type": "code",
   "execution_count": 59,
   "metadata": {},
   "outputs": [
    {
     "name": "stdout",
     "output_type": "stream",
     "text": [
      "{'Name': ['anand', 'arun', 'aju'], 'Age': [20, 30, 40]}\n",
      "    Name  Age\n",
      "0  anand   20\n",
      "1   arun   30\n"
     ]
    }
   ],
   "source": [
    "import pandas as pd\n",
    "data={\n",
    "    'Name':[\"anand\",\"arun\",\"aju\"],\n",
    "    'Age':[20,30,40]\n",
    "}\n",
    "print(data)\n",
    "ps=pd.DataFrame(data)\n",
    "print(ps[:2])"
   ]
  },
  {
   "cell_type": "code",
   "execution_count": 64,
   "metadata": {},
   "outputs": [
    {
     "name": "stdout",
     "output_type": "stream",
     "text": [
      "    Name   Occupation  Salary\n",
      "0  anand       driver   20000\n",
      "1  basil     engineer   30000\n",
      "2   arun       driver   15000\n",
      "3  dasan      plumber   27000\n",
      "4  anoop  electrician   23000\n",
      "Occupation\n",
      "driver         17500.0\n",
      "electrician    23000.0\n",
      "engineer       30000.0\n",
      "plumber        27000.0\n",
      "Name: Salary, dtype: float64\n"
     ]
    }
   ],
   "source": [
    "import pandas as pd\n",
    "data = {\n",
    " 'Name' : ['anand','basil','arun','dasan','anoop'],\n",
    " 'Occupation' : ['driver','engineer','driver','plumber','electrician'],\n",
    " 'Salary' : [20000,30000,15000,27000,23000],\n",
    " }\n",
    "df = pd.DataFrame(data)\n",
    "print(df)\n",
    "avg=df.groupby('Occupation')['Salary'].mean()\n",
    "print(avg)\n",
    "\n",
    "\n"
   ]
  },
  {
   "cell_type": "code",
   "execution_count": 72,
   "metadata": {},
   "outputs": [
    {
     "name": "stdout",
     "output_type": "stream",
     "text": [
      "   eid  ename  stipend      designation\n",
      "0    1   alex     1000     asst.manager\n",
      "1    2  basil     2000          manager\n",
      "2    3   syam      900  sales_executive\n",
      "3    4  deepu      700               hr\n"
     ]
    }
   ],
   "source": [
    "import pandas as pd\n",
    "details_1 = {\n",
    "    'eid' : [1,2,3,4],\n",
    "    'ename' : ['alex','basil','syam','deepu'],\n",
    "    'stipend':[1000,2000,900,700],\n",
    "}\n",
    "details_2 = {\n",
    "    'eid' : [1,2,3,4],\n",
    "    'designation' : ['asst.manager','manager','sales_executive','hr'],\n",
    " }\n",
    "\n",
    "d1=pd.DataFrame(details_1)\n",
    "d2=pd.DataFrame(details_2)\n",
    "dataf=pd.merge(d1,d2)\n",
    "print(dataf)\n"
   ]
  },
  {
   "cell_type": "code",
   "execution_count": 96,
   "metadata": {},
   "outputs": [
    {
     "name": "stdout",
     "output_type": "stream",
     "text": [
      "0.9666666666666667\n"
     ]
    }
   ],
   "source": [
    "from sklearn.neighbors import KNeighborsClassifier\n",
    "from sklearn.model_selection import train_test_split\n",
    "from sklearn.datasets import load_iris\n",
    "da=load_iris()\n",
    "x=da.data\n",
    "y=da.target\n",
    "x_train,x_test,y_train,y_test=train_test_split(x,y,test_size=0.2,random_state=42)\n",
    "knn=KNeighborsClassifier(n_neighbors=7)\n",
    "knn.fit(x_train,y_train)\n",
    "sc=knn.score(x_test,y_test)\n",
    "print(sc)\n",
    "\n"
   ]
  },
  {
   "cell_type": "code",
   "execution_count": 99,
   "metadata": {},
   "outputs": [
    {
     "ename": "NotFittedError",
     "evalue": "This GaussianNB instance is not fitted yet. Call 'fit' with appropriate arguments before using this estimator.",
     "output_type": "error",
     "traceback": [
      "\u001b[1;31m---------------------------------------------------------------------------\u001b[0m",
      "\u001b[1;31mNotFittedError\u001b[0m                            Traceback (most recent call last)",
      "Cell \u001b[1;32mIn[99], line 9\u001b[0m\n\u001b[0;32m      7\u001b[0m gnb\u001b[39m=\u001b[39mGaussianNB()\n\u001b[0;32m      8\u001b[0m \u001b[39m#.y_pred=gnb.fit(x_train,y_train).predict(x_test)\u001b[39;00m\n\u001b[1;32m----> 9\u001b[0m \u001b[39mprint\u001b[39m(gnb\u001b[39m.\u001b[39;49mscore(x_test,y_test))\n",
      "File \u001b[1;32m~\\AppData\\Roaming\\Python\\Python311\\site-packages\\sklearn\\base.py:638\u001b[0m, in \u001b[0;36mClassifierMixin.score\u001b[1;34m(self, X, y, sample_weight)\u001b[0m\n\u001b[0;32m    613\u001b[0m \u001b[39m\u001b[39m\u001b[39m\"\"\"\u001b[39;00m\n\u001b[0;32m    614\u001b[0m \u001b[39mReturn the mean accuracy on the given test data and labels.\u001b[39;00m\n\u001b[0;32m    615\u001b[0m \n\u001b[1;32m   (...)\u001b[0m\n\u001b[0;32m    634\u001b[0m \u001b[39m    Mean accuracy of ``self.predict(X)`` wrt. `y`.\u001b[39;00m\n\u001b[0;32m    635\u001b[0m \u001b[39m\"\"\"\u001b[39;00m\n\u001b[0;32m    636\u001b[0m \u001b[39mfrom\u001b[39;00m \u001b[39m.\u001b[39;00m\u001b[39mmetrics\u001b[39;00m \u001b[39mimport\u001b[39;00m accuracy_score\n\u001b[1;32m--> 638\u001b[0m \u001b[39mreturn\u001b[39;00m accuracy_score(y, \u001b[39mself\u001b[39;49m\u001b[39m.\u001b[39;49mpredict(X), sample_weight\u001b[39m=\u001b[39msample_weight)\n",
      "File \u001b[1;32m~\\AppData\\Roaming\\Python\\Python311\\site-packages\\sklearn\\naive_bayes.py:104\u001b[0m, in \u001b[0;36m_BaseNB.predict\u001b[1;34m(self, X)\u001b[0m\n\u001b[0;32m     90\u001b[0m \u001b[39mdef\u001b[39;00m \u001b[39mpredict\u001b[39m(\u001b[39mself\u001b[39m, X):\n\u001b[0;32m     91\u001b[0m \u001b[39m    \u001b[39m\u001b[39m\"\"\"\u001b[39;00m\n\u001b[0;32m     92\u001b[0m \u001b[39m    Perform classification on an array of test vectors X.\u001b[39;00m\n\u001b[0;32m     93\u001b[0m \n\u001b[1;32m   (...)\u001b[0m\n\u001b[0;32m    102\u001b[0m \u001b[39m        Predicted target values for X.\u001b[39;00m\n\u001b[0;32m    103\u001b[0m \u001b[39m    \"\"\"\u001b[39;00m\n\u001b[1;32m--> 104\u001b[0m     check_is_fitted(\u001b[39mself\u001b[39;49m)\n\u001b[0;32m    105\u001b[0m     X \u001b[39m=\u001b[39m \u001b[39mself\u001b[39m\u001b[39m.\u001b[39m_check_X(X)\n\u001b[0;32m    106\u001b[0m     jll \u001b[39m=\u001b[39m \u001b[39mself\u001b[39m\u001b[39m.\u001b[39m_joint_log_likelihood(X)\n",
      "File \u001b[1;32m~\\AppData\\Roaming\\Python\\Python311\\site-packages\\sklearn\\utils\\validation.py:1380\u001b[0m, in \u001b[0;36mcheck_is_fitted\u001b[1;34m(estimator, attributes, msg, all_or_any)\u001b[0m\n\u001b[0;32m   1375\u001b[0m     fitted \u001b[39m=\u001b[39m [\n\u001b[0;32m   1376\u001b[0m         v \u001b[39mfor\u001b[39;00m v \u001b[39min\u001b[39;00m \u001b[39mvars\u001b[39m(estimator) \u001b[39mif\u001b[39;00m v\u001b[39m.\u001b[39mendswith(\u001b[39m\"\u001b[39m\u001b[39m_\u001b[39m\u001b[39m\"\u001b[39m) \u001b[39mand\u001b[39;00m \u001b[39mnot\u001b[39;00m v\u001b[39m.\u001b[39mstartswith(\u001b[39m\"\u001b[39m\u001b[39m__\u001b[39m\u001b[39m\"\u001b[39m)\n\u001b[0;32m   1377\u001b[0m     ]\n\u001b[0;32m   1379\u001b[0m \u001b[39mif\u001b[39;00m \u001b[39mnot\u001b[39;00m fitted:\n\u001b[1;32m-> 1380\u001b[0m     \u001b[39mraise\u001b[39;00m NotFittedError(msg \u001b[39m%\u001b[39m {\u001b[39m\"\u001b[39m\u001b[39mname\u001b[39m\u001b[39m\"\u001b[39m: \u001b[39mtype\u001b[39m(estimator)\u001b[39m.\u001b[39m\u001b[39m__name__\u001b[39m})\n",
      "\u001b[1;31mNotFittedError\u001b[0m: This GaussianNB instance is not fitted yet. Call 'fit' with appropriate arguments before using this estimator."
     ]
    }
   ],
   "source": [
    "from sklearn.datasets import load_iris\n",
    "from sklearn.model_selection import train_test_split\n",
    "from sklearn.naive_bayes import GaussianNB\n",
    "da=load_iris()\n",
    "x,y=load_iris()\n",
    "x_train,x_test,y_train,y_test=train_test_split(x,y,test_size=0.3,random_state=0)\n",
    "gnb=GaussianNB()\n",
    "#.y_pred=gnb.fit(x_train,y_train).predict(x_test)\n",
    "print(gnb.score(x_test,y_test))\n",
    "\n",
    "\n"
   ]
  }
 ],
 "metadata": {
  "kernelspec": {
   "display_name": "Python 3",
   "language": "python",
   "name": "python3"
  },
  "language_info": {
   "codemirror_mode": {
    "name": "ipython",
    "version": 3
   },
   "file_extension": ".py",
   "mimetype": "text/x-python",
   "name": "python",
   "nbconvert_exporter": "python",
   "pygments_lexer": "ipython3",
   "version": "3.11.1"
  },
  "orig_nbformat": 4,
  "vscode": {
   "interpreter": {
    "hash": "5238573367df39f7286bb46f9ff5f08f63a01a80960060ce41e3c79b190280fa"
   }
  }
 },
 "nbformat": 4,
 "nbformat_minor": 2
}
